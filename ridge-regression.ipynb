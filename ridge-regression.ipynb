{
 "cells": [
  {
   "cell_type": "code",
   "execution_count": 1,
   "metadata": {},
   "outputs": [],
   "source": [
    "#!/usr/bin/python\n",
    "# -*- coding: utf-8 -*-\n",
    "\n",
    "import numpy as np\n",
    "import matplotlib.pyplot as plt\n",
    "import argparse\n",
    "import math\n",
    "\n",
    "from operator import itemgetter\n",
    "\n",
    "\n",
    "class Model(object):\n",
    "    \"\"\"\n",
    "     Ridge Regression.\n",
    "    \"\"\"\n",
    "\n",
    "    def fit(self, X, y, alpha=0):\n",
    "        \"\"\"\n",
    "        Fits the ridge regression model to the training data.\n",
    "\n",
    "        Arguments\n",
    "        ----------\n",
    "        X: nxp matrix of n examples with p independent variables\n",
    "        y: response variable vector for n examples\n",
    "        alpha: regularization parameter.\n",
    "        \"\"\"\n",
    "       \t# Your code here\n",
    "        #self.beta = np.linalg.inv(X.T @ X + alpha * np.eye(X.shape[1])) @ X.T @ y\n",
    "       \tI = np.identity(X.shape[1])\n",
    "        X_trans= np.matrix.transpose(X)\n",
    "        self.beta = np.linalg.inv(X.T @ X + alpha * np.eye(X.shape[1])) @ X.T @ y\n",
    "        #self.beta = np.dot(np.linalg.inv((np.dot(X_trans,X)+alpha *I)), np.dot(X_trans,y))\n",
    "        return self.beta\n",
    "    def predict(self, X):\n",
    "        \"\"\"\n",
    "        Predicts the dependent variable of new data using the model.\n",
    "\n",
    "        Arguments\n",
    "        ----------\n",
    "        X: nxp matrix of n examples with p covariates\n",
    "\n",
    "        Returns\n",
    "        ----------\n",
    "        response variable vector for n examples\n",
    "        \"\"\"\n",
    "       \t# Your code here\n",
    "        return X @ self.beta\n",
    "\n",
    "    def rmse(self, X, y):\n",
    "        \"\"\"\n",
    "        Returns the RMSE(Root Mean Squared Error) when the model is validated.\n",
    "            \n",
    "        Arguments\n",
    "        ----------\n",
    "        X: nxp matrix of n examples with p covariates\n",
    "        y: response variable vector for n examples\n",
    "            \n",
    "        Returns\n",
    "        ----------\n",
    "        RMSE when model is used to predict y\n",
    "        \"\"\"\n",
    "       \t# Your code here\n",
    "        ypred = self.predict(X)\n",
    "        return np.sqrt(((y - ypred) ** 2).mean())"
   ]
  },
  {
   "cell_type": "code",
   "execution_count": 2,
   "metadata": {},
   "outputs": [],
   "source": [
    "#Read command line arguments\n",
    "X_train_path = '/Users/Jun/Documents/18661_ML/hw2/data/Xtraining.csv'\n",
    "y_train_path='/Users/Jun/Documents/18661_ML/hw2/data/Ytraining.csv'\n",
    "X_val_path='/Users/Jun/Documents/18661_ML/hw2/data/Xvalidation.csv'\n",
    "y_val_path='/Users/Jun/Documents/18661_ML/hw2/data/Yvalidation.csv'\n",
    "X_test_path='/Users/Jun/Documents/18661_ML/hw2/data/Xtesting.csv'\n",
    "y_test_path='/Users/Jun/Documents/18661_ML/hw2/data/Ytesting.csv'"
   ]
  },
  {
   "cell_type": "code",
   "execution_count": 3,
   "metadata": {},
   "outputs": [],
   "source": [
    "#Parse training dataset\n",
    "X_train = np.genfromtxt(X_train_path, delimiter=',')\n",
    "y_train = np.genfromtxt(y_train_path,delimiter=',')\n",
    "\n",
    "#Parse validation set\n",
    "X_val = np.genfromtxt(X_val_path, delimiter=',')\n",
    "y_val = np.genfromtxt(y_val_path, delimiter=',')\n",
    "\n",
    "#Parse testing set\n",
    "X_test = np.genfromtxt(X_test_path, delimiter=',')\n",
    "y_test = np.genfromtxt(y_test_path, delimiter=',')"
   ]
  },
  {
   "cell_type": "code",
   "execution_count": 4,
   "metadata": {},
   "outputs": [],
   "source": [
    "ridge = Model()"
   ]
  },
  {
   "cell_type": "code",
   "execution_count": 5,
   "metadata": {},
   "outputs": [
    {
     "data": {
      "text/plain": [
       "array([-8.19753154e+06,  2.23795703e+07, -2.83975847e+07,  3.62687951e+07,\n",
       "       -4.33967576e+07,  2.33802799e+07, -1.13073202e+07,  4.24557004e+07,\n",
       "       -5.30146079e+07,  2.75799812e+07, -3.11089241e+07,  4.36632332e+07,\n",
       "       -2.24854619e+07,  3.06028783e+07, -7.53021576e+07,  7.32810976e+07,\n",
       "       -3.73560862e+07,  1.54921452e+07,  1.30277308e+07, -2.68390991e+07,\n",
       "       -4.36612220e+06,  1.64452283e+07, -5.63952938e+06,  1.84050825e+07,\n",
       "       -6.68927459e+06, -3.90646239e+07,  2.91130713e+07,  4.76958129e+07,\n",
       "       -1.04651733e+08,  1.01027101e+08, -7.23185023e+07,  4.78129152e+07,\n",
       "       -2.01597620e+07,  8.77468294e+06, -3.26547184e+07,  4.36356099e+07,\n",
       "       -1.21667049e+07, -1.98735137e+07,  4.08562919e+07, -7.66785065e+07,\n",
       "        8.10949459e+07, -1.93640796e+07, -2.62214622e+07,  2.16669920e+07,\n",
       "       -3.34558092e+07,  4.39014472e+07,  1.28966379e+06, -2.33982862e+07,\n",
       "       -3.36080310e+07,  6.74288436e+07, -3.24977203e+07, -5.33679479e+06,\n",
       "        4.78415529e+07, -9.30699580e+07,  5.69011917e+07,  3.13863732e+07,\n",
       "       -4.75278499e+07,  8.63627647e+06,  1.14699753e+07, -4.12078644e+07,\n",
       "        6.73359819e+07, -1.63702804e+07, -5.30527427e+07,  4.34985618e+07,\n",
       "       -4.67680113e+06, -1.21153862e+07,  4.72011728e+07, -6.65180150e+07,\n",
       "        9.90080724e+06,  3.91135423e+07, -1.36078445e+07, -1.24586593e+07,\n",
       "        1.84330897e+07, -5.37579249e+07,  6.21022588e+07, -1.14115623e+06,\n",
       "       -3.03568106e+07,  1.98466374e+06,  7.45843450e+06, -1.04981687e+07,\n",
       "        4.51970893e+07, -4.55107109e+07, -8.10896379e+05,  1.25563790e+07,\n",
       "       -8.02527897e+05,  1.29901487e+07, -1.85281739e+06, -3.97333496e+07,\n",
       "        3.24078559e+07,  1.29609238e+07, -2.03457737e+07,  4.41472396e+06,\n",
       "        8.89487626e+05, -1.95862066e+07,  3.79052302e+07, -1.36592326e+07,\n",
       "       -2.25596030e+07,  2.73904624e+07, -1.05066180e+07, -1.33792668e+07,\n",
       "        4.00956849e+07, -4.09138210e+07, -4.04656882e+06,  4.33293083e+07,\n",
       "       -3.93863676e+07,  3.09171842e+07, -3.33885895e+07,  6.61001007e+06,\n",
       "        2.09637821e+07,  3.26345016e+06, -2.01395412e+07, -2.55927830e+07,\n",
       "        7.10976641e+07, -6.43550564e+07,  3.47241182e+07, -1.21392447e+07,\n",
       "       -6.62930257e+05, -1.96645687e+06,  1.19705724e+07, -1.34408695e+07,\n",
       "        1.10181180e+07, -7.32064303e+05, -1.76084451e+07,  2.58136206e+07,\n",
       "       -1.55754170e+07,  2.47674628e+06, -7.44917211e+05,  3.58776226e+06,\n",
       "       -2.88055287e+06, -7.37117457e+05,  9.57677327e+06, -2.11957524e+07,\n",
       "        1.83896856e+07, -4.60225699e+06,  2.87172794e+06, -6.83479263e+06,\n",
       "       -2.02818704e+06,  1.48552701e+07, -1.45094237e+07,  8.81252816e+06,\n",
       "       -5.63734477e+06,  3.13293507e+06, -3.24908363e+06,  3.08009056e+06,\n",
       "       -4.33071917e+05,  1.79754681e+05, -9.07974219e+05, -1.79020761e+05,\n",
       "        7.83173109e+05, -3.31801281e+05, -2.93148711e+05,  5.13398367e+05,\n",
       "        7.54781388e+04, -4.27758056e+05,  1.48395986e+05,  2.10469308e+05,\n",
       "       -4.53619493e+05,  2.14055710e+05,  3.49844856e+05,  1.27309154e+05,\n",
       "       -1.60710283e+06,  2.11306755e+06, -1.10944917e+06, -2.75870148e+05,\n",
       "        1.63973764e+06, -2.54065433e+06,  1.75807865e+06,  3.38987842e+05,\n",
       "       -1.16618090e+06,  1.14957676e+04,  1.25987862e+06, -1.35823181e+06,\n",
       "        8.09325411e+05,  6.26023093e+05, -2.75727142e+06,  2.74971531e+06,\n",
       "        2.07550825e+05, -1.85331385e+06,  1.13893897e+06, -1.40172297e+06,\n",
       "        1.71648174e+06,  2.83497296e+05, -1.41590595e+06, -2.46508792e+05,\n",
       "        1.15903950e+06, -4.17143552e+05,  2.36694384e+05, -2.17784041e+05,\n",
       "       -4.33551591e+05,  2.62640377e+05,  1.09195271e+06, -1.66103884e+06,\n",
       "        4.74529194e+05,  6.26329189e+03,  9.05862225e+05, -8.29230500e+05,\n",
       "        1.89192793e+05, -8.25348791e+05,  1.06904937e+06, -2.24179893e+04,\n",
       "       -1.65413435e+05,  2.61302931e+05, -9.84262547e+05,  1.52553997e+05,\n",
       "        8.78324173e+05,  1.65840542e+05, -4.70611742e+05, -1.80280487e+05,\n",
       "       -6.02956053e+05,  1.04899455e+06, -1.40190788e+04,  1.82205011e+05,\n",
       "       -1.14504267e+06,  1.01237780e+06,  3.88525810e+05, -2.43457661e+06,\n",
       "        3.45526038e+06, -1.72388113e+06, -1.17038311e+06,  2.90000302e+06,\n",
       "       -3.36742778e+06,  2.11552748e+06,  1.34281144e+06, -3.93295606e+06,\n",
       "        2.61499758e+06,  4.51127377e+05, -1.50886343e+06,  1.46848725e+05,\n",
       "        1.16303008e+06, -1.33426891e+06,  1.00881872e+06, -3.53606594e+05,\n",
       "       -8.01473822e+05,  1.18891115e+06, -4.93980828e+05])"
      ]
     },
     "execution_count": 5,
     "metadata": {},
     "output_type": "execute_result"
    }
   ],
   "source": [
    "ridge.fit(X_train, y_train)"
   ]
  },
  {
   "cell_type": "code",
   "execution_count": 6,
   "metadata": {},
   "outputs": [],
   "source": [
    "y_pred = ridge.predict(X_val)"
   ]
  },
  {
   "cell_type": "code",
   "execution_count": 7,
   "metadata": {},
   "outputs": [
    {
     "data": {
      "text/plain": [
       "1313.2588155125293"
      ]
     },
     "execution_count": 7,
     "metadata": {},
     "output_type": "execute_result"
    }
   ],
   "source": [
    "ridge.rmse(X_val, y_val)"
   ]
  },
  {
   "cell_type": "code",
   "execution_count": 8,
   "metadata": {},
   "outputs": [],
   "source": [
    "from sklearn.metrics import mean_squared_error"
   ]
  },
  {
   "cell_type": "code",
   "execution_count": 9,
   "metadata": {},
   "outputs": [
    {
     "data": {
      "text/plain": [
       "1313.2588155125293"
      ]
     },
     "execution_count": 9,
     "metadata": {},
     "output_type": "execute_result"
    }
   ],
   "source": [
    "np.sqrt(mean_squared_error(y_pred, y_val))"
   ]
  },
  {
   "cell_type": "code",
   "execution_count": null,
   "metadata": {},
   "outputs": [],
   "source": []
  },
  {
   "cell_type": "code",
   "execution_count": 10,
   "metadata": {},
   "outputs": [
    {
     "data": {
      "text/plain": [
       "9.100504754781921"
      ]
     },
     "execution_count": 10,
     "metadata": {},
     "output_type": "execute_result"
    }
   ],
   "source": [
    "model2 = Model()\n",
    "model2.fit(X_train, y_train, alpha=10)\n",
    "y_pred = model2.predict(X_val)\n",
    "model2.rmse(X_val, y_val)"
   ]
  },
  {
   "cell_type": "code",
   "execution_count": 11,
   "metadata": {},
   "outputs": [
    {
     "data": {
      "text/plain": [
       "12.15062070701843"
      ]
     },
     "execution_count": 11,
     "metadata": {},
     "output_type": "execute_result"
    }
   ],
   "source": [
    "model2 = Model()\n",
    "model2.fit(X_train, y_train, alpha=1)\n",
    "y_pred = model2.predict(X_val)\n",
    "model2.rmse(X_val, y_val)"
   ]
  },
  {
   "cell_type": "code",
   "execution_count": 12,
   "metadata": {},
   "outputs": [],
   "source": [
    "#find the best regularization parameter\n",
    "# Your code here\n",
    "\n",
    "#plot rmse versus lambda\n",
    "# Your code here\n",
    "\n",
    "#plot predicted versus real value\n",
    "# Your code here\n",
    "\n",
    "#plot regression coefficients\n",
    "# Your code here"
   ]
  },
  {
   "cell_type": "markdown",
   "metadata": {},
   "source": [
    "# Plot first 10 dims of $\\beta$"
   ]
  },
  {
   "cell_type": "code",
   "execution_count": 13,
   "metadata": {
    "scrolled": true
   },
   "outputs": [
    {
     "data": {
      "text/plain": [
       "[<matplotlib.lines.Line2D at 0x7fc317396910>]"
      ]
     },
     "execution_count": 13,
     "metadata": {},
     "output_type": "execute_result"
    },
    {
     "data": {
      "image/png": "[encoded data removed]",
      "text/plain": [
       "<Figure size 432x288 with 10 Axes>"
      ]
     },
     "metadata": {
      "needs_background": "light"
     },
     "output_type": "display_data"
    }
   ],
   "source": [
    "alphas = [a * 10 ** b for a in range(1, 10) for b in range(0, -6, -1)]\n",
    "alphas.sort(reverse=False)\n",
    "betas = []\n",
    "\n",
    "for alpha in alphas:\n",
    "    model = Model()\n",
    "    model.fit(X_train, y_train, alpha=alpha)\n",
    "    betas.append(model.beta)\n",
    "    \n",
    "beta = np.array(betas).T\n",
    "\n",
    "l = alphas\n",
    "fig, axs = plt.subplots(2,5)\n",
    "    #fig.tight_layout()\n",
    "axs[0,0].plot(l, beta[0])\n",
    "axs[0,1].plot(l, beta[1])\n",
    "axs[0,2].plot(l, beta[2])\n",
    "axs[0,3].plot(l, beta[3])\n",
    "axs[0,4].plot(l, beta[4])\n",
    "axs[1,0].plot(l, beta[5])\n",
    "axs[1,1].plot(l, beta[6])\n",
    "axs[1,2].plot(l, beta[7])\n",
    "axs[1,3].plot(l, beta[8])\n",
    "axs[1,4].plot(l, beta[9])\n",
    "    "
   ]
  },
  {
   "cell_type": "markdown",
   "metadata": {},
   "source": [
    "in the first 10 dimention, we could know all the beta will go towards to zero."
   ]
  },
  {
   "cell_type": "code",
   "execution_count": 14,
   "metadata": {
    "scrolled": true
   },
   "outputs": [],
   "source": [
    "#beta[0]"
   ]
  },
  {
   "cell_type": "code",
   "execution_count": 15,
   "metadata": {},
   "outputs": [
    {
     "data": {
      "text/plain": [
       "(235,)"
      ]
     },
     "execution_count": 15,
     "metadata": {},
     "output_type": "execute_result"
    }
   ],
   "source": [
    "model2.beta.shape"
   ]
  },
  {
   "cell_type": "code",
   "execution_count": 16,
   "metadata": {},
   "outputs": [
    {
     "data": {
      "text/plain": [
       "235"
      ]
     },
     "execution_count": 16,
     "metadata": {},
     "output_type": "execute_result"
    }
   ],
   "source": [
    "len(beta)"
   ]
  },
  {
   "cell_type": "code",
   "execution_count": 17,
   "metadata": {
    "scrolled": true
   },
   "outputs": [],
   "source": [
    "alphas = [0.01, 0.1, 0.5, 1, 5, 10, 100]\n",
    "# alphas = np.linspace(0.001, 2, num= 1000)\n",
    "for alpha in alphas:\n",
    "    model = Model()\n",
    "    "
   ]
  },
  {
   "cell_type": "markdown",
   "metadata": {},
   "source": [
    "plot rmse versus lambda"
   ]
  },
  {
   "cell_type": "code",
   "execution_count": 18,
   "metadata": {},
   "outputs": [
    {
     "data": {
      "text/plain": [
       "[<matplotlib.lines.Line2D at 0x7fc3175b8790>]"
      ]
     },
     "execution_count": 18,
     "metadata": {},
     "output_type": "execute_result"
    },
    {
     "data": {
      "image/png": "[encoded data removed]",
      "text/plain": [
       "<Figure size 432x288 with 1 Axes>"
      ]
     },
     "metadata": {
      "needs_background": "light"
     },
     "output_type": "display_data"
    },
    {
     "data": {
      "image/png": "[encoded data removed]",
      "text/plain": [
       "<Figure size 432x288 with 1 Axes>"
      ]
     },
     "metadata": {
      "needs_background": "light"
     },
     "output_type": "display_data"
    }
   ],
   "source": [
    "rms = np.zeros(1000)\n",
    "j=0\n",
    "for alpha in np.linspace(0.00001,9,num= 1000):\n",
    "    \n",
    "    model2 = Model()\n",
    "    model2.fit(X_val, y_val, alpha)\n",
    "    y_pred = model2.predict(X_val)\n",
    "    rms[j] = model2.rmse(X_val, y_val)\n",
    "    j=j+1\n",
    "plt.figure(2)\n",
    "plt.plot(np.linspace(0.00001,9,num = 1000), rms)\n",
    "plt.figure(4)\n",
    "plt.plot(np.linspace(0.00001,0.01,num = 1000), rms)"
   ]
  },
  {
   "cell_type": "markdown",
   "metadata": {},
   "source": [
    "in this figure, we could know that 0.00001 will be the best lamda to achieve minimum RMSE"
   ]
  },
  {
   "cell_type": "markdown",
   "metadata": {},
   "source": [
    "2. plot predicted versus real value"
   ]
  },
  {
   "cell_type": "code",
   "execution_count": 19,
   "metadata": {},
   "outputs": [
    {
     "data": {
      "text/plain": [
       "Text(0, 0.5, 'predicted values of glucose')"
      ]
     },
     "execution_count": 19,
     "metadata": {},
     "output_type": "execute_result"
    },
    {
     "data": {
      "image/png": "[encoded data removed]",
      "text/plain": [
       "<Figure size 432x288 with 1 Axes>"
      ]
     },
     "metadata": {
      "needs_background": "light"
     },
     "output_type": "display_data"
    }
   ],
   "source": [
    "alpha = 0.00001\n",
    "model2.fit(X_test, y_test, alpha)\n",
    "xt= model2.predict(X_test)\n",
    "plt.figure(3)\n",
    "plt.scatter(y_test,xt)\n",
    "#plot the y = x \n",
    "x = [1, 2, 3, 4, 5, 6, 7,25,30]\n",
    "y = [1, 2, 3, 4, 5, 6, 7,25,30]\n",
    "slope, intercept = np.polyfit(x, y, 1)\n",
    "abline_values = [slope * i + intercept for i in x]\n",
    "plt.plot(x, y, '--')\n",
    "plt.plot(x, abline_values, 'r')\n",
    "plt.xlabel(\"true values of glucose concentration\")\n",
    "plt.ylabel(\"predicted values of glucose\")"
   ]
  }
 ],
 "metadata": {
  "kernelspec": {
   "display_name": "Python 3",
   "language": "python",
   "name": "python3"
  },
  "language_info": {
   "codemirror_mode": {
    "name": "ipython",
    "version": 3
   },
   "file_extension": ".py",
   "mimetype": "text/x-python",
   "name": "python",
   "nbconvert_exporter": "python",
   "pygments_lexer": "ipython3",
   "version": "3.7.6"
  }
 },
 "nbformat": 4,
 "nbformat_minor": 4
}
