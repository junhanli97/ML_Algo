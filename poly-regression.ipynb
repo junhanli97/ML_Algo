{
 "cells": [
  {
   "cell_type": "code",
   "execution_count": 1,
   "metadata": {},
   "outputs": [
    {
     "data": {
      "text/plain": [
       "Text(0.5, 1.0, 'validation rmse versus k')"
      ]
     },
     "execution_count": 1,
     "metadata": {},
     "output_type": "execute_result"
    },
    {
     "data": {
      "image/png": "[encoded data removed]",
      "text/plain": [
       "<Figure size 432x288 with 1 Axes>"
      ]
     },
     "metadata": {
      "needs_background": "light"
     },
     "output_type": "display_data"
    }
   ],
   "source": [
    "#!/usr/bin/python\n",
    "# -*- coding: utf-8 -*-\n",
    "\n",
    "import numpy as np\n",
    "import argparse\n",
    "import pandas as pd \n",
    "from matplotlib import pyplot as plt\n",
    "\n",
    "from operator import itemgetter\n",
    "\n",
    "class Model(object):\n",
    "    \"\"\"\n",
    "     Polynomial Regression.\n",
    "    \"\"\"\n",
    "\n",
    "    def fit(self, X, y, k):\n",
    "        \"\"\"\n",
    "        Fits the polynomial regression model to the training data.\n",
    "\n",
    "        Arguments\n",
    "        ----------\n",
    "        X: nx1 matrix of n examples\n",
    "        y: response variable vector for n examples\n",
    "        k: polynomial degree\n",
    "        \"\"\"\n",
    "        phi = np.ones((X.shape[0], k+1))\n",
    "        \n",
    "        for i in range(k+1):\n",
    "            phi[:,i]= np.power(X, i)\n",
    "        self.w = np.linalg.inv(phi.T @ phi) @ phi.T @ y\n",
    "        return self.w\n",
    "\n",
    "    def predict(self, X):\n",
    "        \"\"\"\n",
    "        Predicts the dependent variable of new data using the model.\n",
    "\n",
    "        Arguments\n",
    "        ----------\n",
    "        X: nx1 matrix of n examples\n",
    "\n",
    "        Returns\n",
    "        ----------\n",
    "        response variable vector for n examples\n",
    "        \"\"\"\n",
    "        phi = np.ones((X.shape[0], len(self.w)))\n",
    "        for i in range(len(self.w)):\n",
    "            phi[:,i]= np.power(X, i)\n",
    "        return  phi @ self.w\n",
    "\n",
    "    def rmse(self, X, y):\n",
    "        \"\"\"\n",
    "        Returns the RMSE(Root Mean Squared Error) when the model is validated.\n",
    "        \n",
    "        Arguments\n",
    "        ----------\n",
    "        X: nx1 matrix of n examples\n",
    "        y: response variable vector for n examples\n",
    "        \n",
    "        Returns\n",
    "        ----------\n",
    "        RMSE when model is used to predict y\n",
    "        \"\"\"\n",
    "        ypred = self.predict(X)\n",
    "        return np.sqrt(((y - ypred) ** 2).mean())\n",
    "        \n",
    "\n",
    "\n",
    "#run command:\n",
    "#python poly.py --data=data/poly_reg_data.csv\n",
    "\n",
    "#if __name__ == '__main__':\n",
    "\n",
    "#Read command line arguments\n",
    "#parser = argparse.ArgumentParser(description='Fit a Polynomial Regression Model')\n",
    "#parser.add_argument('--data', required=True, help='The file which contains the dataset.')\n",
    "path = '/Users/Jun/Documents/18661_ML/hw2/poly_reg_data.csv'  \n",
    "data =np.genfromtxt(path, delimiter=',')\n",
    "#args = parser.parse_args()\n",
    "#print(data)\n",
    "\n",
    "\n",
    "\n",
    "x_train = data[1:26][:,0]\n",
    "x_val = data[26:41][:,0]\n",
    "\n",
    "\n",
    "y_train = data[1:26][:,1]\n",
    "y_val = data[26:41][:,1]\n",
    "\n",
    "\n",
    "\n",
    "#plot validation rmse versus k\n",
    "# Your code here\n",
    "loss = []\n",
    "for k in range(1,11):\n",
    "    model = Model()\n",
    "    model.fit(x_train, y_train, k )\n",
    "    rms= model.rmse(x_train, y_train)\n",
    "    loss.append(rms)\n",
    "plt.plot(range(1,11),loss)\n",
    "\n",
    "plt.title(\"validation rmse versus k\")\n",
    "#plot training rmse versus k\n",
    "# Your code here\n",
    "\n",
    "#plot fitted polynomial curve versus k as well as the scattered training data points \n",
    "# Your code here\n"
   ]
  },
  {
   "cell_type": "markdown",
   "metadata": {},
   "source": [
    "k = 9, 10 will give us the minimum training error"
   ]
  },
  {
   "cell_type": "code",
   "execution_count": 2,
   "metadata": {},
   "outputs": [
    {
     "data": {
      "text/plain": [
       "Text(0.5, 1.0, 'training rmse versus k')"
      ]
     },
     "execution_count": 2,
     "metadata": {},
     "output_type": "execute_result"
    },
    {
     "data": {
      "image/png": "[encoded data removed]",
      "text/plain": [
       "<Figure size 432x288 with 1 Axes>"
      ]
     },
     "metadata": {
      "needs_background": "light"
     },
     "output_type": "display_data"
    }
   ],
   "source": [
    "loss = []\n",
    "for k in range(1,11):\n",
    "    model = Model()\n",
    "    model.fit(x_val, y_val, k )\n",
    "    rms= model.rmse(x_val, y_val)\n",
    "    loss.append(rms)\n",
    "plt.plot(range(1,11),loss)\n",
    "plt.title(\"training rmse versus k\")"
   ]
  },
  {
   "cell_type": "markdown",
   "metadata": {},
   "source": [
    "k = 9 gives us the minimum validation error\n",
    "\n",
    "K_train and K_val are different, that might come from the difference between training and testing dataset."
   ]
  },
  {
   "cell_type": "code",
   "execution_count": 3,
   "metadata": {},
   "outputs": [
    {
     "data": {
      "text/plain": [
       "Text(0.5, 1.0, 'k=1')"
      ]
     },
     "execution_count": 3,
     "metadata": {},
     "output_type": "execute_result"
    },
    {
     "data": {
      "image/png": "[encoded data removed]",
      "text/plain": [
       "<Figure size 432x288 with 1 Axes>"
      ]
     },
     "metadata": {
      "needs_background": "light"
     },
     "output_type": "display_data"
    }
   ],
   "source": [
    "model = Model()\n",
    "model.fit(x_train, y_train, 1 )\n",
    "rms= model.rmse(x_train, y_train)\n",
    "xt= model.predict(x_train)\n",
    "plt.scatter(xt,y_train)\n",
    "plt.xlabel(\"Xtrain\")\n",
    "plt.ylabel(\"y\")\n",
    "plt.title(\"k=1\" )"
   ]
  },
  {
   "cell_type": "code",
   "execution_count": 9,
   "metadata": {},
   "outputs": [
    {
     "data": {
      "text/plain": [
       "Text(0.5, 1.0, 'k=3')"
      ]
     },
     "execution_count": 9,
     "metadata": {},
     "output_type": "execute_result"
    },
    {
     "data": {
      "image/png": "[encoded data removed]",
      "text/plain": [
       "<Figure size 432x288 with 1 Axes>"
      ]
     },
     "metadata": {
      "needs_background": "light"
     },
     "output_type": "display_data"
    }
   ],
   "source": [
    "model = Model()\n",
    "model.fit(x_train, y_train, 3 )\n",
    "rms= model.rmse(x_train, y_train)\n",
    "xt= model.predict(x_train)\n",
    "plt.scatter(xt,y_train)\n",
    "plt.xlabel(\"Xtrain\")\n",
    "plt.ylabel(\"y\")\n",
    "plt.title(\"k=3\" )"
   ]
  },
  {
   "cell_type": "code",
   "execution_count": 5,
   "metadata": {},
   "outputs": [
    {
     "data": {
      "text/plain": [
       "Text(0.5, 1.0, 'k=5')"
      ]
     },
     "execution_count": 5,
     "metadata": {},
     "output_type": "execute_result"
    },
    {
     "data": {
      "image/png": "[encoded data removed]",
      "text/plain": [
       "<Figure size 432x288 with 1 Axes>"
      ]
     },
     "metadata": {
      "needs_background": "light"
     },
     "output_type": "display_data"
    }
   ],
   "source": [
    "model = Model()\n",
    "model.fit(x_train, y_train, 5)\n",
    "rms= model.rmse(x_train, y_train)\n",
    "xt= model.predict(x_train)\n",
    "plt.scatter(xt,y_train)\n",
    "plt.xlabel(\"Xtrain\")\n",
    "plt.ylabel(\"y\")\n",
    "plt.title(\"k=5\")"
   ]
  },
  {
   "cell_type": "code",
   "execution_count": 6,
   "metadata": {},
   "outputs": [
    {
     "data": {
      "text/plain": [
       "Text(0.5, 1.0, 'k=10')"
      ]
     },
     "execution_count": 6,
     "metadata": {},
     "output_type": "execute_result"
    },
    {
     "data": {
      "image/png": "[encoded data removed]",
      "text/plain": [
       "<Figure size 432x288 with 1 Axes>"
      ]
     },
     "metadata": {
      "needs_background": "light"
     },
     "output_type": "display_data"
    }
   ],
   "source": [
    "model = Model()\n",
    "model.fit(x_train, y_train, 10 )\n",
    "rms= model.rmse(x_train, y_train)\n",
    "xt= model.predict(x_train)\n",
    "plt.scatter(xt,y_train)\n",
    "plt.xlabel(\"Xtrain\")\n",
    "plt.ylabel(\"y\")\n",
    "plt.title(\"k=10\")"
   ]
  }
 ],
 "metadata": {
  "kernelspec": {
   "display_name": "Python 3",
   "language": "python",
   "name": "python3"
  },
  "language_info": {
   "codemirror_mode": {
    "name": "ipython",
    "version": 3
   },
   "file_extension": ".py",
   "mimetype": "text/x-python",
   "name": "python",
   "nbconvert_exporter": "python",
   "pygments_lexer": "ipython3",
   "version": "3.7.6"
  }
 },
 "nbformat": 4,
 "nbformat_minor": 4
}
