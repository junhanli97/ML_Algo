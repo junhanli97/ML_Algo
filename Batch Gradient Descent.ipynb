{
 "cells": [
  {
   "cell_type": "code",
   "execution_count": 1,
   "metadata": {},
   "outputs": [],
   "source": [
    "import numpy as np\n",
    "import pandas as pd\n",
    "import scipy as sp\n",
    "import gzip\n",
    "import matplotlib.pyplot as plt\n",
    "from sklearn import metrics\n",
    "import os\n",
    "import string\n",
    "import glob\n",
    "# import re\n",
    "# import nltk"
   ]
  },
  {
   "cell_type": "code",
   "execution_count": 2,
   "metadata": {},
   "outputs": [],
   "source": [
    "#useful function\n",
    "bound = 1e-16\n",
    "def sigmoid(x):\n",
    "    if x>0:\n",
    "        result= 1/(1+np.exp(-x))\n",
    "    else:\n",
    "        result = np.exp(x)/(1+np.exp(x))\n",
    "    if result >1-bound:\n",
    "        result = 1-bound\n",
    "    elif result < bound:\n",
    "        result = bound\n",
    "        \n",
    "    return result"
   ]
  },
  {
   "cell_type": "code",
   "execution_count": 3,
   "metadata": {},
   "outputs": [
    {
     "name": "stdout",
     "output_type": "stream",
     "text": [
      "123\n"
     ]
    }
   ],
   "source": [
    "all_spam_train= \"/Users/Jun/Documents/18661_ML/hw3_data/spam/train/token_spam.txt\"\n",
    "all_ham_train = \"/Users/Jun/Documents/18661_ML/hw3_data/spam/train/token_ham.txt\"\n",
    "all_spam_test= \"/Users/Jun/Documents/18661_ML/hw3_data/spam/test/token_spam.txt\"\n",
    "all_ham_test=\"/Users/Jun/Documents/18661_ML/hw3_data/spam/test/token_ham.txt\"\n",
    "\n",
    "spam_train_path=\"/Users/Jun/Documents/18661_ML/hw3_data/spam/train/spam\"\n",
    "ham_train_path=\"/Users/Jun/Documents/18661_ML/hw3_data/spam/train/ham\"\n",
    "spam_test_path=\"/Users/Jun/Documents/18661_ML/hw3_data/spam/test/spam\"\n",
    "ham_test_path=\"/Users/Jun/Documents/18661_ML/hw3_data/spam/test/ham\"\n",
    "txtcounter = len(glob.glob1(spam_train_path,\"*.txt\"))\n",
    "print(txtcounter)"
   ]
  },
  {
   "cell_type": "code",
   "execution_count": 4,
   "metadata": {},
   "outputs": [],
   "source": [
    "#creat a dictionary to store dic\n",
    "diction=\"/Users/Jun/Documents/18661_ML/hw3_data/spam/dic.txt\"\n",
    "di= open(diction)\n",
    "dic1=di.read().split()\n",
    "#print(di)\n",
    "a=[]\n",
    "i=1\n",
    "while i<=1014:\n",
    "    a.append(i)\n",
    "    i+=1\n",
    "dic=dict(zip(dic1,a))\n",
    "#print(dic)\n",
    "#print(dic1)"
   ]
  },
  {
   "cell_type": "code",
   "execution_count": 5,
   "metadata": {},
   "outputs": [
    {
     "name": "stdout",
     "output_type": "stream",
     "text": [
      "123\n",
      "[914 374 606]\n",
      "60.0\n",
      "http\n",
      "65.0\n",
      "price\n",
      "136.0\n",
      "subject\n"
     ]
    }
   ],
   "source": [
    "#create the train spam matrix\n",
    "spam_train_path=\"/Users/Jun/Documents/18661_ML/hw3_data/spam/train/spam/\"\n",
    "m1=np.zeros(1014)\n",
    "train_spam= []\n",
    "print(len(glob.glob(spam_train_path+\"*.txt\")))\n",
    "for path_to_file in glob.glob(spam_train_path+\"*.txt\"):\n",
    "    fi = open(path_to_file,'r',errors=\"ignore\")\n",
    "    try:\n",
    "        lines= fi.readlines()\n",
    "        for i in range(0,lines.__len__(),1):\n",
    "            for word in lines[i].split():\n",
    "                word = word.strip(string.digits)\n",
    "                word = word.strip(string.whitespace)\n",
    "                word = word.strip(string.punctuation)\n",
    "                word= word.lower()\n",
    "                if len(word)>0:\n",
    "                    train_spam.append(word)\n",
    "    except:\n",
    "        print(path_to_file)\n",
    "for i in train_spam:\n",
    "    if i in dic1:\n",
    "        m1[dic[i]-1]+=1\n",
    "    else:\n",
    "        continue\n",
    "#print(m1)\n",
    "mc1=m1.copy()\n",
    "l1=mc1.argsort()[-3:]\n",
    "print(l1)\n",
    "for i in l1:\n",
    "    print(m1[i])\n",
    "    print(dic1[i])\n",
    "#print(len(glob.glob(spam_train_path+\"*.txt\")))"
   ]
  },
  {
   "cell_type": "markdown",
   "metadata": {},
   "source": [
    "training spam {(subject: 135 of occurrences), (price: 65 of occurences), (http: 60 of occurences)}"
   ]
  },
  {
   "cell_type": "code",
   "execution_count": 6,
   "metadata": {},
   "outputs": [
    {
     "name": "stdout",
     "output_type": "stream",
     "text": [
      "340\n",
      "[916 606 768]\n",
      "310.0\n",
      "will\n",
      "566.0\n",
      "subject\n",
      "600.0\n",
      "enron\n"
     ]
    }
   ],
   "source": [
    "#create the train ham matrix\n",
    "ham_train_path=\"/Users/Jun/Documents/18661_ML/hw3_data/spam/train/ham/\"\n",
    "m2=np.zeros(1014)\n",
    "train_ham = []\n",
    "print(len(glob.glob(ham_train_path+\"*.txt\")))\n",
    "for path_to_file in glob.glob(ham_train_path+\"*.txt\"):\n",
    "    fi = open(path_to_file)\n",
    "    lines= fi.readlines()\n",
    "    for i in range(0,lines.__len__(),1):\n",
    "        for word in lines[i].split():\n",
    "            word = word.strip(string.digits)\n",
    "            word = word.strip(string.whitespace)\n",
    "            word = word.strip(string.punctuation)\n",
    "            word= word.lower()\n",
    "            if len(word)>0:\n",
    "                train_ham.append(word)\n",
    "for i in train_ham:\n",
    "\n",
    "    if i in dic:\n",
    "        m2[dic[i]-1]+=1\n",
    "    else:\n",
    "        continue\n",
    "mc2=m2.copy()\n",
    "l2=mc2.argsort()[-3:]\n",
    "print(l2)\n",
    "for i in l2:\n",
    "    print(m2[i])\n",
    "    print(dic1[i])"
   ]
  },
  {
   "cell_type": "markdown",
   "metadata": {},
   "source": [
    "training ham {(enron: 600 of occurrences), (subject: 566 of occurences), (will: 310 of occurences)}"
   ]
  },
  {
   "cell_type": "code",
   "execution_count": 7,
   "metadata": {},
   "outputs": [
    {
     "name": "stdout",
     "output_type": "stream",
     "text": [
      "[401 916 768 606]\n",
      "291.0\n",
      "please\n",
      "351.0\n",
      "will\n",
      "600.0\n",
      "enron\n",
      "702.0\n",
      "subject\n"
     ]
    }
   ],
   "source": [
    "#combine the spam and ham in train data\n",
    "m3=np.zeros(1014)\n",
    "for i in range(1014):\n",
    "    m3[i]=m1[i]+m2[i]\n",
    "mc3=m3.copy()\n",
    "l3=mc3.argsort()[-4:]\n",
    "print(l3)\n",
    "for i in l3:\n",
    "    print(m3[i])\n",
    "    print(dic1[i]) "
   ]
  },
  {
   "cell_type": "markdown",
   "metadata": {},
   "source": [
    "Q 4.2"
   ]
  },
  {
   "cell_type": "markdown",
   "metadata": {},
   "source": [
    "training spam and ham {(enron: 600 of occurrences), (will: 351 of occurences), (please: 291 of occurences)}"
   ]
  },
  {
   "cell_type": "code",
   "execution_count": 8,
   "metadata": {},
   "outputs": [
    {
     "name": "stdout",
     "output_type": "stream",
     "text": [
      "/Users/Jun/Documents/18661_ML/hw3_data/spam/train/spam/2248.2004-09-23.GP.spam.txt\n"
     ]
    }
   ],
   "source": [
    "#union the spam and ham train data into a matrix and feature for spam is 1 and ham is 0\n",
    "mtrain=[]\n",
    "y=np.zeros((463,1))\n",
    "count = 0\n",
    "for path_to_file in glob.glob(\"/Users/Jun/Documents/18661_ML/hw3_data/spam/train/spam/\"+\"*.txt\"):\n",
    "    m1=np.zeros(1014)\n",
    "    train_spam= []\n",
    "    fi = open(path_to_file)\n",
    "    try:\n",
    "        lines= fi.readlines()\n",
    "        for i in range(0,lines.__len__(),1):\n",
    "            for word in lines[i].split():\n",
    "                word = word.strip(string.digits)\n",
    "                word = word.strip(string.whitespace)\n",
    "                word = word.strip(string.punctuation)\n",
    "                word= word.lower()\n",
    "                if len(word)>0:\n",
    "                    train_spam.append(word)\n",
    "    except:\n",
    "        print(path_to_file)\n",
    "    for i in train_spam:\n",
    "        if i in dic1:\n",
    "            m1[dic[i]-1]+=1\n",
    "        else:\n",
    "            continue\n",
    "    mtrain.append(m1)\n",
    "    y[count]=1\n",
    "    count+=1\n",
    "\n",
    "for path_to_file in glob.glob(\"/Users/Jun/Documents/18661_ML/hw3_data/spam/train/ham/\"+\"*.txt\"):\n",
    "    m2=np.zeros(1014)\n",
    "    train_ham= []\n",
    "    fi = open(path_to_file)\n",
    "    try:\n",
    "        lines= fi.readlines()\n",
    "        for i in range(0,lines.__len__(),1):\n",
    "            for word in lines[i].split():\n",
    "                word = word.strip(string.digits)\n",
    "                word = word.strip(string.whitespace)\n",
    "                word = word.strip(string.punctuation)\n",
    "                word= word.lower()\n",
    "                if len(word)>0:\n",
    "                    train_ham.append(word)\n",
    "    except:\n",
    "        print(path_to_file)\n",
    "    for i in train_ham:\n",
    "        if i in dic1:\n",
    "            m2[dic[i]-1]+=1\n",
    "        else:\n",
    "            continue\n",
    "    mtrain.append(m2)\n",
    "    y[count]=0\n",
    "    count+=1\n",
    "# print(mtrain)"
   ]
  },
  {
   "cell_type": "markdown",
   "metadata": {},
   "source": [
    "grad = (x_train.T @ (sigmoid(x @w)-y))\n",
    "\n",
    "w = w-eta*grad\n",
    "\n",
    "loss = -(y * sigmoid(x@w)+(1-y)*sigmoid(x@w))"
   ]
  },
  {
   "cell_type": "code",
   "execution_count": 9,
   "metadata": {},
   "outputs": [
    {
     "data": {
      "text/plain": [
       "array([[0., 0., 0., ..., 0., 1., 0.]])"
      ]
     },
     "execution_count": 9,
     "metadata": {},
     "output_type": "execute_result"
    }
   ],
   "source": [
    "x_train= np.c_[mtrain]\n",
    "x_train=np.expand_dims(x_train, axis=1)\n",
    "x_train[5]"
   ]
  },
  {
   "cell_type": "code",
   "execution_count": 10,
   "metadata": {},
   "outputs": [],
   "source": [
    "# print(x_train.shape)\n",
    "# f=np.expand_dims(x_train, axis=1)\n",
    "# print(f[1].T.shape) #numpy.ndarray\n",
    "# print(x_train[1,:].shape)\n",
    "# print(y.shape)\n",
    "# print(y[1])#numpy.ndarray\n",
    "# print((x_train@w).shape)#numpy.ndarray"
   ]
  },
  {
   "cell_type": "code",
   "execution_count": 11,
   "metadata": {},
   "outputs": [],
   "source": [
    "def cross_entropy(x,y,w,b,lamda):\n",
    "    entropy = lamda*(np.linalg.norm(w.transpose())**2)\n",
    "    \n",
    "    for i in range(x_train.shape[0]):\n",
    "        entropy -= (y[i]*np.log(sigmoid(b+(w.T @ x[i])))\n",
    "                    +(1-y[i])*np.log(1 - sigmoid(b+(w.T @ x[i]))))\n",
    "        #print(entropy)\n",
    "    return entropy\n",
    "\n",
    "def grad_w(x,y,w,b,lamda):\n",
    "    row=x.shape[0]\n",
    "    col= x.shape[1]\n",
    "    grad = np.zeros(col)\n",
    "    for i in range(row):\n",
    "        h = sigmoid(b+(w.T @ x[i]))\n",
    "        grad+=(h-y[i])*x[i]\n",
    "    grad+=2*lamda*w\n",
    "    return grad\n",
    "       \n",
    "def grad_b(x,y,w,b):\n",
    "    row=x.shape[0]\n",
    "    col= x.shape[1]\n",
    "    grad = 0\n",
    "    for i in range(row):\n",
    "        h = sigmoid(b+(w.T @ x[i]))\n",
    "        grad+=(h-y[i])\n",
    "    return grad"
   ]
  },
  {
   "cell_type": "code",
   "execution_count": 12,
   "metadata": {},
   "outputs": [
    {
     "name": "stdout",
     "output_type": "stream",
     "text": [
      "[[[0. 0. 0. ... 0. 0. 0.]]\n",
      "\n",
      " [[0. 0. 0. ... 0. 0. 0.]]\n",
      "\n",
      " [[0. 0. 0. ... 0. 0. 0.]]\n",
      "\n",
      " ...\n",
      "\n",
      " [[0. 0. 0. ... 0. 0. 0.]]\n",
      "\n",
      " [[0. 0. 0. ... 0. 0. 0.]]\n",
      "\n",
      " [[0. 0. 0. ... 0. 0. 0.]]]\n"
     ]
    }
   ],
   "source": [
    "steps = np.linspace(1,50,50)\n",
    "steps[1]\n",
    "print(x_train)"
   ]
  },
  {
   "cell_type": "code",
   "execution_count": 13,
   "metadata": {},
   "outputs": [
    {
     "name": "stdout",
     "output_type": "stream",
     "text": [
      "2.552451100162659\n",
      "7.974603057245541\n",
      "28.562367040293875\n",
      "55.838766334208415\n",
      "277.2600567216183\n"
     ]
    },
    {
     "data": {
      "image/png": "[encoded data removed]",
      "text/plain": [
       "<Figure size 432x288 with 1 Axes>"
      ]
     },
     "metadata": {
      "needs_background": "light"
     },
     "output_type": "display_data"
    }
   ],
   "source": [
    "#q4.4b\n",
    "x_train= np.c_[mtrain]\n",
    "itera = 50\n",
    "n=x_train.shape[0]\n",
    "d=x_train.shape[1]\n",
    "lamda = 0\n",
    "p=0\n",
    "etas = [0.001, 0.01, 0.05, 0.1, 0.5]\n",
    "colors=[ 'blue','red','green','black','purple']\n",
    "\n",
    "for index in range(len(etas)):\n",
    "    eta = etas[index]\n",
    "    cross_entropy_list=[]\n",
    "    w = np.zeros(d)\n",
    "    b=0.1\n",
    "    for i in range(itera):\n",
    "        \n",
    "        \n",
    "        w_grad= grad_w(x_train,y,w,b,lamda)\n",
    "   \n",
    "        b_grad = grad_b(x_train,y,w,b)\n",
    "       \n",
    "        \n",
    "        w-=eta*w_grad\n",
    "        b-=eta*b_grad\n",
    "        entropy=cross_entropy(x_train,y,w,b,lamda)\n",
    "        cross_entropy_list.append(entropy)\n",
    "    print(np.sqrt(np.sum(w**2)))\n",
    "    plt.figure(p)\n",
    "    plt.yscale('log')\n",
    "    plt.plot(range(0,50),cross_entropy_list, color=colors[index], label='eta ' + str(eta))\n",
    "    plt.ylabel(\"$cross-entropy$\")\n",
    "    plt.xlabel(\"$iteration$\")\n",
    "    plt.legend()\n"
   ]
  },
  {
   "cell_type": "code",
   "execution_count": 25,
   "metadata": {},
   "outputs": [
    {
     "data": {
      "image/png": "[encoded data removed]",
      "text/plain": [
       "<Figure size 432x288 with 1 Axes>"
      ]
     },
     "metadata": {
      "needs_background": "light"
     },
     "output_type": "display_data"
    }
   ],
   "source": [
    "#q4.4c\n",
    "x_train= np.c_[mtrain]\n",
    "itera = 50\n",
    "n=x_train.shape[0]\n",
    "d=x_train.shape[1]\n",
    "lamda = 0.1\n",
    "p=0\n",
    "etas = [0.001, 0.01, 0.05, 0.1, 0.5]\n",
    "colors=[ 'blue','red','green','black','purple']\n",
    "for index in range(len(etas)):\n",
    "    eta = etas[index]\n",
    "    cross_entropy_list=[]\n",
    "    w = np.zeros(d)\n",
    "    b=0.1\n",
    "    for i in range(itera):\n",
    "        #entropy=cross_entropy(x_train,y,w,b,lamda)\n",
    "        \n",
    "        w_grad= grad_w(x_train,y,w,b,lamda)\n",
    "   \n",
    "        b_grad = grad_b(x_train,y,w,b)\n",
    "       \n",
    "        \n",
    "        w-=eta*w_grad\n",
    "        b-=eta*b_grad\n",
    "        entropy=cross_entropy(x_train,y,w,b,lamda)\n",
    "        cross_entropy_list.append(entropy)\n",
    "    plt.figure(p)\n",
    "    #plt.yscale('log')\n",
    "    plt.plot(range(0,50),cross_entropy_list, color=colors[index], label='eta ' + str(eta))\n",
    "    plt.ylabel(\"$cross-entropy$\")\n",
    "    plt.xlabel(\"$iterations$\")\n",
    "    plt.legend()\n"
   ]
  },
  {
   "cell_type": "code",
   "execution_count": 15,
   "metadata": {},
   "outputs": [
    {
     "name": "stdout",
     "output_type": "stream",
     "text": [
      "7.974603057245541\n",
      "7.48658704629696\n",
      "7.049879176977135\n",
      "6.659441159154358\n",
      "6.310591442593458\n",
      "5.998989317229012\n"
     ]
    }
   ],
   "source": [
    "#q4.4c\n",
    "x_train= np.c_[mtrain]\n",
    "itera = 50\n",
    "n=x_train.shape[0]\n",
    "d=x_train.shape[1]\n",
    "lamdas = [0,0.1,0.2,0.3,0.4,0.5]\n",
    "p=0\n",
    "eta = 0.01\n",
    "for lamda in lamdas:\n",
    "    cross_entropy_list=[]\n",
    "    w = np.zeros(d)\n",
    "    b=0.1\n",
    "    for i in range(itera):\n",
    "        \n",
    "        \n",
    "        w_grad= grad_w(x_train,y,w,b,lamda)\n",
    "   \n",
    "        b_grad = grad_b(x_train,y,w,b)\n",
    "       \n",
    "        \n",
    "        w-=eta*w_grad\n",
    "        b-=eta*b_grad\n",
    "        entropy=cross_entropy(x_train,y,w,b,lamda)\n",
    "        cross_entropy_list.append(entropy)\n",
    "    print(np.sqrt(np.sum(w**2)))"
   ]
  },
  {
   "cell_type": "code",
   "execution_count": null,
   "metadata": {},
   "outputs": [],
   "source": []
  },
  {
   "cell_type": "markdown",
   "metadata": {},
   "source": [
    "for test data"
   ]
  },
  {
   "cell_type": "code",
   "execution_count": 16,
   "metadata": {},
   "outputs": [],
   "source": [
    "#create the test spam matrix\n",
    "spam_test_path=\"/Users/Jun/Documents/18661_ML/hw3_data/spam/test/spam/\"\n",
    "m3=np.zeros(1014)\n",
    "test_spam=[]\n",
    "for path_to_file in glob.glob(spam_test_path+\"*.txt\"):\n",
    "    fi = open(path_to_file,'r',errors=\"ignore\")\n",
    "    #print(len(glob.glob(spam_test_path+\"*.txt\")))\n",
    "    try:\n",
    "        lines= fi.readlines()\n",
    "        for i in range(0,lines.__len__(),1):\n",
    "            for word in lines[i].split():\n",
    "                word = word.strip(string.digits)\n",
    "                word = word.strip(string.whitespace)\n",
    "                word = word.strip(string.punctuation)\n",
    "                word= word.lower()\n",
    "                if len(word)>0:\n",
    "                    test_spam.append(word)\n",
    "    except:\n",
    "        print(path_to_file)\n",
    "        \n",
    "for i in test_spam:\n",
    "    if i in dic:\n",
    "        m3[dic[i]-1]+=1\n",
    "    else:\n",
    "        continue\n"
   ]
  },
  {
   "cell_type": "code",
   "execution_count": 17,
   "metadata": {},
   "outputs": [],
   "source": [
    "#create the test ham matrix\n",
    "ham_test_path=\"/Users/Jun/Documents/18661_ML/hw3_data/spam/test/ham/\"\n",
    "m4=np.zeros(1014)\n",
    "test_ham=[]\n",
    "for path_to_file in glob.glob(ham_test_path+\"*.txt\"):\n",
    "    fi = open(path_to_file)\n",
    "    #print(len(glob.glob(ham_test_path+\"*.txt\")))\n",
    "    try:\n",
    "        lines= fi.readlines()\n",
    "        for i in range(0,lines.__len__(),1):\n",
    "            for word in lines[i].split():\n",
    "                word = word.strip(string.digits)\n",
    "                word = word.strip(string.whitespace)\n",
    "                word = word.strip(string.punctuation)\n",
    "                word= word.lower()\n",
    "                if len(word)>0:\n",
    "                    test_ham.append(word)\n",
    "    except:\n",
    "        print(path_to_file)\n",
    "        \n",
    "for i in test_ham:\n",
    "    if i in dic:\n",
    "        m4[dic[i]-1]+=1\n",
    "    else:\n",
    "        continue\n"
   ]
  },
  {
   "cell_type": "code",
   "execution_count": 18,
   "metadata": {},
   "outputs": [],
   "source": [
    "#union the spam and ham train data into a matrix and feature for spam is 1 and ham is 0\n",
    "mtest=[]\n",
    "y=np.zeros((478,1))\n",
    "count = 0\n",
    "for path_to_file in glob.glob(\"/Users/Jun/Documents/18661_ML/hw3_data/spam/test/spam/\"+\"*.txt\"):\n",
    "    m1=np.zeros(1014)\n",
    "    test_spam= []\n",
    "    fi = open(path_to_file,'r',errors=\"ignore\")\n",
    "    try:\n",
    "        lines= fi.readlines()\n",
    "        for i in range(0,lines.__len__(),1):\n",
    "            for word in lines[i].split():\n",
    "                word = word.strip(string.digits)\n",
    "                word = word.strip(string.whitespace)\n",
    "                word = word.strip(string.punctuation)\n",
    "                word= word.lower()\n",
    "                if len(word)>0:\n",
    "                    test_spam.append(word)\n",
    "    except:\n",
    "        print(path_to_file)\n",
    "    for i in test_spam:\n",
    "        if i in dic1:\n",
    "            m1[dic[i]-1]+=1\n",
    "        else:\n",
    "            continue\n",
    "    mtest.append(m1)\n",
    "    y[count]=1\n",
    "    count+=1\n",
    "\n",
    "for path_to_file in glob.glob(\"/Users/Jun/Documents/18661_ML/hw3_data/spam/test/ham/\"+\"*.txt\"):\n",
    "    m2=np.zeros(1014)\n",
    "    test_ham= []\n",
    "    fi = open(path_to_file,'r',errors=\"ignore\")\n",
    "    try:\n",
    "        lines= fi.readlines()\n",
    "        for i in range(0,lines.__len__(),1):\n",
    "            for word in lines[i].split():\n",
    "                word = word.strip(string.digits)\n",
    "                word = word.strip(string.whitespace)\n",
    "                word = word.strip(string.punctuation)\n",
    "                word= word.lower()\n",
    "                if len(word)>0:\n",
    "                    test_ham.append(word)\n",
    "    except:\n",
    "        print(path_to_file)\n",
    "    for i in test_ham:\n",
    "        if i in dic1:\n",
    "            m2[dic[i]-1]+=1\n",
    "        else:\n",
    "            continue\n",
    "    mtest.append(m2)\n",
    "    y[count]=0\n",
    "    count+=1\n",
    "# print(mtrain)"
   ]
  },
  {
   "cell_type": "code",
   "execution_count": 19,
   "metadata": {},
   "outputs": [
    {
     "data": {
      "image/png": "[encoded data removed]",
      "text/plain": [
       "<Figure size 432x288 with 1 Axes>"
      ]
     },
     "metadata": {
      "needs_background": "light"
     },
     "output_type": "display_data"
    }
   ],
   "source": [
    "#q4.4c\n",
    "x_test= np.c_[mtest]\n",
    "itera = 50\n",
    "n=x_test.shape[0]\n",
    "d=x_test.shape[1]\n",
    "lamdas = [0,0.1,0.2,0.3,0.4,0.5]\n",
    "p=0\n",
    "eta = 0.01\n",
    "colors=[ 'blue','red','green','black','purple','brown']\n",
    "for index in range(len(lamdas)):\n",
    "    lamda = lamdas[index]\n",
    "    cross_entropy_list=[]\n",
    "    w = np.zeros(d)\n",
    "    b=0.1\n",
    "    for i in range(itera):\n",
    "        \n",
    "        \n",
    "        w_grad= grad_w(x_test,y,w,b,lamda)\n",
    "   \n",
    "        b_grad = grad_b(x_test,y,w,b)\n",
    "       \n",
    "        \n",
    "        w-=eta*w_grad\n",
    "        b-=eta*b_grad\n",
    "        entropy=cross_entropy(x_test,y,w,b,lamda)\n",
    "        cross_entropy_list.append(entropy)\n",
    "    plt.figure(p)\n",
    "    plt.yscale('log')\n",
    "    plt.plot(range(0,50),cross_entropy_list, color=colors[index], label='lamda ' + str(lamda))\n",
    "    plt.ylabel(\"$cross-entropy$\")\n",
    "    plt.xlabel(\"$iterations$\")\n",
    "    plt.legend()"
   ]
  },
  {
   "cell_type": "code",
   "execution_count": null,
   "metadata": {},
   "outputs": [],
   "source": []
  }
 ],
 "metadata": {
  "kernelspec": {
   "display_name": "Python 3",
   "language": "python",
   "name": "python3"
  },
  "language_info": {
   "codemirror_mode": {
    "name": "ipython",
    "version": 3
   },
   "file_extension": ".py",
   "mimetype": "text/x-python",
   "name": "python",
   "nbconvert_exporter": "python",
   "pygments_lexer": "ipython3",
   "version": "3.7.6"
  }
 },
 "nbformat": 4,
 "nbformat_minor": 4
}
